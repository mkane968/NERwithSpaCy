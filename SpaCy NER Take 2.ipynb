{
 "cells": [
  {
   "cell_type": "code",
   "execution_count": 1,
   "metadata": {},
   "outputs": [],
   "source": [
    "#Imports spaCy\n",
    "import spacy\n",
    "#Imports the English model\n",
    "import en_core_web_sm\n",
    "#Sets up a function so you can run the English model on texts\n",
    "ennlp = en_core_web_sm.load()"
   ]
  },
  {
   "cell_type": "code",
   "execution_count": 6,
   "metadata": {},
   "outputs": [],
   "source": [
    "#io is used for opening and writing files\n",
    "import io\n",
    "#glob is used to find all the pathnames matching a specified pattern (here, all text files)\n",
    "import glob\n",
    "#os is used to navigate your folder directories (e.g. change folders to where you files are stored)\n",
    "import os"
   ]
  },
  {
   "cell_type": "code",
   "execution_count": 3,
   "metadata": {},
   "outputs": [],
   "source": [
    "#Define the file directory here\n",
    "filedirectory = '/Users/mkane/Documents/CRA_Research/HumEssays'\n",
    "#Change the working directory to the one you just defined\n",
    "os.chdir(filedirectory)"
   ]
  },
  {
   "cell_type": "code",
   "execution_count": 20,
   "metadata": {},
   "outputs": [
    {
     "name": "stdout",
     "output_type": "stream",
     "text": [
      "ENG (49).txt\n",
      "ENG (49)_ner_per.txt\n",
      "ENG (49)_ner_per_ner_per.txt\n",
      "ENG (49)_ner_per_ner_per_ner_per.txt\n",
      "ENG (49)_ner_per_ner_per_ner_per_ner_per.txt\n"
     ]
    }
   ],
   "source": [
    "# PERSON\n",
    "#Sort all the files in the directory you specified above, alphabetically.\n",
    "#For each of those files...\n",
    "for filename in sorted(os.listdir(filedirectory)):\n",
    "    #If the filename ends with .txt (i.e. if it's actually a text files)\n",
    "    if filename.endswith('.txt'):\n",
    "        #Write out below the name of the file\n",
    "        print(filename)\n",
    "        #The file name of the output file adds _ner_per to the end of the file name of the input file\n",
    "        outfilename = filename.replace('.txt', '_ner_per.txt')\n",
    "        #Open the infput filename\n",
    "        with open(filename, 'r') as f:\n",
    "            #Create and open the output filename\n",
    "            with open(outfilename, 'w') as out:\n",
    "                #Read the contents of the input file\n",
    "                text = f.read()\n",
    "                #Do English NLP on the contents of the input file\n",
    "                textner = ennlp(tet)\n",
    "                #For each recognized entity\n",
    "                for ent in textner.ents:\n",
    "                    #If that entity is labeled as a person\n",
    "                    if ent.label_ == 'PERSON':\n",
    "                        #Print the entity, and the label (which should be PER)\n",
    "                        print(ent.text, ent.label_)\n",
    "                        #Write the entity to the output file\n",
    "                        out.write(ent.text)\n",
    "                        #Write a newline character to the output file\n",
    "                        out.write('\\n')\n",
    "                        \n"
   ]
  },
  {
   "cell_type": "code",
   "execution_count": 4,
   "metadata": {
    "scrolled": true
   },
   "outputs": [
    {
     "name": "stdout",
     "output_type": "stream",
     "text": [
      "ENG (1).txt\n"
     ]
    },
    {
     "ename": "NameError",
     "evalue": "name 'ennlp' is not defined",
     "output_type": "error",
     "traceback": [
      "\u001b[1;31m---------------------------------------------------------------------------\u001b[0m",
      "\u001b[1;31mNameError\u001b[0m                                 Traceback (most recent call last)",
      "\u001b[1;32m<ipython-input-4-a673aee3b86f>\u001b[0m in \u001b[0;36m<module>\u001b[1;34m\u001b[0m\n\u001b[0;32m     16\u001b[0m                 \u001b[0mtext\u001b[0m \u001b[1;33m=\u001b[0m \u001b[0mf\u001b[0m\u001b[1;33m.\u001b[0m\u001b[0mread\u001b[0m\u001b[1;33m(\u001b[0m\u001b[1;33m)\u001b[0m\u001b[1;33m\u001b[0m\u001b[1;33m\u001b[0m\u001b[0m\n\u001b[0;32m     17\u001b[0m                 \u001b[1;31m#Do English NLP on the contents of the input file\u001b[0m\u001b[1;33m\u001b[0m\u001b[1;33m\u001b[0m\u001b[1;33m\u001b[0m\u001b[0m\n\u001b[1;32m---> 18\u001b[1;33m                 \u001b[0mtextner\u001b[0m \u001b[1;33m=\u001b[0m \u001b[0mennlp\u001b[0m\u001b[1;33m(\u001b[0m\u001b[0mtext\u001b[0m\u001b[1;33m)\u001b[0m\u001b[1;33m\u001b[0m\u001b[1;33m\u001b[0m\u001b[0m\n\u001b[0m\u001b[0;32m     19\u001b[0m                 \u001b[1;31m#For each recognized entity\u001b[0m\u001b[1;33m\u001b[0m\u001b[1;33m\u001b[0m\u001b[1;33m\u001b[0m\u001b[0m\n\u001b[0;32m     20\u001b[0m                 \u001b[1;32mfor\u001b[0m \u001b[0ment\u001b[0m \u001b[1;32min\u001b[0m \u001b[0mtextner\u001b[0m\u001b[1;33m.\u001b[0m\u001b[0ments\u001b[0m\u001b[1;33m:\u001b[0m\u001b[1;33m\u001b[0m\u001b[1;33m\u001b[0m\u001b[0m\n",
      "\u001b[1;31mNameError\u001b[0m: name 'ennlp' is not defined"
     ]
    }
   ],
   "source": [
    "#WORK OF ART\n",
    "#Sort all the files in the directory you specified above, alphabetically.\n",
    "#For each of those files...\n",
    "for filename in sorted(os.listdir(filedirectory)):\n",
    "    #If the filename ends with .txt (i.e. if it's actually a text files)\n",
    "    if filename.endswith('.txt'):\n",
    "        #Write out below the name of the file\n",
    "        print(filename)\n",
    "        #The file name of the output file adds _ner_art to the end of the file name of the input file\n",
    "        outfilename = filename.replace('.txt', '_ner_art.txt')\n",
    "        #Open the infput filename\n",
    "        with open(filename, 'r') as f:\n",
    "            #Create and open the output filename\n",
    "            with open(outfilename, 'w') as out:\n",
    "                #Read the contents of the input file\n",
    "                text = f.read()\n",
    "                #Do English NLP on the contents of the input file\n",
    "                textner = ennlp(text)\n",
    "                #For each recognized entity\n",
    "                for ent in textner.ents:\n",
    "                    #If that entity is labeled as a person\n",
    "                    if ent.label_ == 'WORK_OF_ART':\n",
    "                        #Print the entity, and the label (which should be PER)\n",
    "                        print(ent.text, ent.label_)\n",
    "                        #Write the entity to the output file\n",
    "                        out.write(ent.text)\n",
    "                        #Write a newline character to the output file\n",
    "                        out.write('\\n')"
   ]
  },
  {
   "cell_type": "code",
   "execution_count": 18,
   "metadata": {},
   "outputs": [
    {
     "name": "stdout",
     "output_type": "stream",
     "text": [
      "Complete\n",
      "Complete\n",
      "Complete\n",
      "Complete\n"
     ]
    }
   ],
   "source": [
    "import pandas as pd\n",
    "#Sort all the files in the directory you specified above, alphabetically.\n",
    "#For each of those files...\n",
    "entities=[]\n",
    "type_entity=[]\n",
    "for filename in sorted(os.listdir(filedirectory)):\n",
    "    #If the filename ends with .txt (i.e. if it's actually a text files)\n",
    "    if filename.endswith('.txt'):\n",
    "        #Open the infput filename\n",
    "        with open(filename, 'r') as f:\n",
    "            #Read the contents of the input file\n",
    "                text = f.read()\n",
    "                #Do English NLP on the contents of the input file\n",
    "                textner = ennlp(text)\n",
    "                #For each recognized entity\n",
    "                for ent in textner.ents:\n",
    "                    if ent.text not in entities:\n",
    "                        entities.append(ent.text)\n",
    "                        type_entity.append(ent.label_)\n",
    "                Entities=pd.DataFrame({\"Entity\":entities,'Entity_type':type_entity})\n",
    "                pd.DataFrame.from_records(Entities)\n",
    "                Entities.to_csv(\"Entities.csv\")\n",
    "                print(\"Complete\")\n",
    "                      "
   ]
  }
 ],
 "metadata": {
  "kernelspec": {
   "display_name": "Python 3",
   "language": "python",
   "name": "python3"
  },
  "language_info": {
   "codemirror_mode": {
    "name": "ipython",
    "version": 3
   },
   "file_extension": ".py",
   "mimetype": "text/x-python",
   "name": "python",
   "nbconvert_exporter": "python",
   "pygments_lexer": "ipython3",
   "version": "3.7.3"
  }
 },
 "nbformat": 4,
 "nbformat_minor": 2
}
